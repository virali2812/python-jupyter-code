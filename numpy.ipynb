{
 "cells": [
  {
   "cell_type": "code",
   "execution_count": 1,
   "id": "5daa176a",
   "metadata": {},
   "outputs": [
    {
     "data": {
      "text/plain": [
       "'1.23.3'"
      ]
     },
     "execution_count": 1,
     "metadata": {},
     "output_type": "execute_result"
    }
   ],
   "source": [
    "#%%\n",
    "\n",
    "import numpy as np\n",
    "np.__version__"
   ]
  },
  {
   "cell_type": "code",
   "execution_count": 3,
   "id": "9d65f8cf",
   "metadata": {},
   "outputs": [
    {
     "name": "stdout",
     "output_type": "stream",
     "text": [
      "[1 2 3 4 5]\n",
      "(5,)\n",
      "int32\n",
      "1\n",
      "5\n",
      "4\n",
      "[0 1 2 3 4]\n"
     ]
    }
   ],
   "source": [
    "#%% 2. Numpy Array:\n",
    "\n",
    "a = np.array([1,2,3,4,5])\n",
    "print(a)\n",
    "print(a.shape)\n",
    "print(a.dtype)\n",
    "print(a.ndim)\n",
    "print(a.size)\n",
    "print(a.itemsize)\n",
    "x = np.arange(5)\n",
    "print(x)"
   ]
  },
  {
   "cell_type": "code",
   "execution_count": 3,
   "id": "274e378a",
   "metadata": {},
   "outputs": [
    {
     "name": "stdout",
     "output_type": "stream",
     "text": [
      "1\n",
      "[5 2 3]\n",
      "[10  0  6]\n",
      "16\n"
     ]
    }
   ],
   "source": [
    "#%% Essential methods:\n",
    "\n",
    "a = np.array([1,2,3])\n",
    "\n",
    "print(a[0])\n",
    "a[0] = 5\n",
    "print(a)\n",
    "\n",
    "b = a *np.array([2, 0, 2])\n",
    "print(b)\n",
    "print(b.sum())"
   ]
  },
  {
   "cell_type": "code",
   "execution_count": 4,
   "id": "8ff99dc5",
   "metadata": {},
   "outputs": [
    {
     "name": "stdout",
     "output_type": "stream",
     "text": [
      "[1, 2, 3]\n",
      "[1 2 3]\n",
      "[1, 2, 3, 1, 2, 3]\n",
      "[2 4 6]\n"
     ]
    }
   ],
   "source": [
    "# 3. Numpy Array vs List:\n",
    "\n",
    "l = [1, 2, 3]\n",
    "a = np.array([1,2,3])\n",
    "print(l)\n",
    "print(a)\n",
    "\n",
    "l2 = 2 * l\n",
    "print(l2)\n",
    "\n",
    "a2 = 2 * a\n",
    "print(a2)"
   ]
  },
  {
   "cell_type": "code",
   "execution_count": 5,
   "id": "a4aa01e8",
   "metadata": {},
   "outputs": [
    {
     "name": "stdout",
     "output_type": "stream",
     "text": [
      "11\n",
      "11\n",
      "11\n",
      "11\n"
     ]
    }
   ],
   "source": [
    "# 4. Dot product\n",
    "\n",
    "a = np.array([1,2])\n",
    "b = np.array([3,4])\n",
    "\n",
    "dot = 0\n",
    "for i in range(len(a)):\n",
    "    dot += a[i] * b[i]\n",
    "print(dot)\n",
    "\n",
    "dot = np.dot(a,b)\n",
    "print(dot)\n",
    "\n",
    "dot = a.dot(b)\n",
    "print(dot)\n",
    "\n",
    "dot = a @ b\n",
    "print(dot)"
   ]
  },
  {
   "cell_type": "code",
   "execution_count": 6,
   "id": "2eaf13fb",
   "metadata": {},
   "outputs": [
    {
     "name": "stdout",
     "output_type": "stream",
     "text": [
      "The with lists: 0.4767860999563709\n",
      "The with array: 0.04233419999945909\n",
      "Ratio 11.262433209142085\n"
     ]
    }
   ],
   "source": [
    "# 5. Speed Test Array vs List\n",
    "\n",
    "from timeit import default_timer as timer\n",
    "a = np.random.randn(1000)\n",
    "b = np.random.randn(1000)\n",
    "A = list(a)\n",
    "B = list(b)\n",
    "T = 1000\n",
    "\n",
    "def dot1():\n",
    "    dot = 0\n",
    "    for i in range(len(A)):\n",
    "        dot += A[i] * B[i]\n",
    "    return dot\n",
    "\n",
    "def dot2():\n",
    "    return np.dot(a, b)\n",
    "\n",
    "start = timer()\n",
    "for t in range(T):\n",
    "    dot1()\n",
    "end = timer()\n",
    "t1 = end - start\n",
    "\n",
    "start = timer()\n",
    "for t in range(T):\n",
    "    dot2()\n",
    "end = timer()\n",
    "t2 = end - start\n",
    "\n",
    "print('The with lists:', t1)\n",
    "print('The with array:', t2)\n",
    "print('Ratio', t1/t2)"
   ]
  },
  {
   "cell_type": "code",
   "execution_count": 7,
   "id": "914207b0",
   "metadata": {},
   "outputs": [
    {
     "name": "stdout",
     "output_type": "stream",
     "text": [
      "[[1 2]\n",
      " [3 4]]\n",
      "(2, 2)\n",
      "[1 2]\n",
      "1\n",
      "1\n",
      "[1 3]\n",
      "[1 2]\n"
     ]
    }
   ],
   "source": [
    "# 6. Multidimensional (nd) Arrays\n",
    "\n",
    "a = np.array([[1,2],[3,4]])\n",
    "print(a)\n",
    "print(a.shape)\n",
    "\n",
    "print(a[0])\n",
    "print(a[0][0])\n",
    "\n",
    "print(a[0,0])\n",
    "\n",
    "print(a[:,0])\n",
    "print(a[0,:])"
   ]
  },
  {
   "cell_type": "code",
   "execution_count": 8,
   "id": "0bffe56f",
   "metadata": {},
   "outputs": [
    {
     "name": "stdout",
     "output_type": "stream",
     "text": [
      "[[1 3]\n",
      " [2 4]]\n"
     ]
    }
   ],
   "source": [
    "print(a.T)"
   ]
  },
  {
   "cell_type": "code",
   "execution_count": 9,
   "id": "b1a40fce",
   "metadata": {},
   "outputs": [
    {
     "name": "stdout",
     "output_type": "stream",
     "text": [
      "[[ 3  8]\n",
      " [15 24]]\n"
     ]
    }
   ],
   "source": [
    "# matrix multiplication\n",
    "\n",
    "b = np.array([[3,4], [5,6]])\n",
    "c = a.dot(b)\n",
    "d = a * b\n",
    "\n",
    "print(d)"
   ]
  },
  {
   "cell_type": "code",
   "execution_count": 10,
   "id": "a4457e56",
   "metadata": {},
   "outputs": [
    {
     "name": "stdout",
     "output_type": "stream",
     "text": [
      "-2.0000000000000004\n"
     ]
    }
   ],
   "source": [
    "c = np.linalg.det(a)\n",
    "print(c)"
   ]
  },
  {
   "cell_type": "code",
   "execution_count": 11,
   "id": "d9be78c2",
   "metadata": {},
   "outputs": [
    {
     "name": "stdout",
     "output_type": "stream",
     "text": [
      "[[-2.   1. ]\n",
      " [ 1.5 -0.5]]\n"
     ]
    }
   ],
   "source": [
    "c = np.linalg.inv(a)\n",
    "print(c)"
   ]
  },
  {
   "cell_type": "code",
   "execution_count": 13,
   "id": "aeaf3a83",
   "metadata": {},
   "outputs": [
    {
     "name": "stdout",
     "output_type": "stream",
     "text": [
      "[[1 2]\n",
      " [3 4]]\n",
      "[1 4]\n"
     ]
    }
   ],
   "source": [
    "print(a)\n",
    "c = np.diag(a)\n",
    "print(c)"
   ]
  },
  {
   "cell_type": "code",
   "execution_count": 14,
   "id": "272ec923",
   "metadata": {},
   "outputs": [
    {
     "name": "stdout",
     "output_type": "stream",
     "text": [
      "[[1 0]\n",
      " [0 4]]\n"
     ]
    }
   ],
   "source": [
    "c = np.diag([1,4])\n",
    "print(c)"
   ]
  },
  {
   "cell_type": "code",
   "execution_count": 19,
   "id": "de9d8a47",
   "metadata": {},
   "outputs": [
    {
     "name": "stdout",
     "output_type": "stream",
     "text": [
      "[[ 1  2  3  4]\n",
      " [ 5  6  7  8]\n",
      " [ 9 10 11 12]]\n",
      "2\n",
      "[1 2 3 4]\n",
      "[1 5 9]\n",
      "[[2 3]\n",
      " [6 7]]\n",
      "12\n"
     ]
    }
   ],
   "source": [
    "a = np.array([[1,2,3,4], [5,6,7,8], [9,10,11,12]])\n",
    "print(a)\n",
    "\n",
    "b = a[0,1]\n",
    "print(b)\n",
    "\n",
    "row0 = a[0,:]\n",
    "print(row0)\n",
    "\n",
    "col0 = a[:, 0]\n",
    "print(col0)\n",
    "\n",
    "slice_a = a[0:2,1:3]\n",
    "print(slice_a)\n",
    "\n",
    "last = a[-1,-1]\n",
    "print(last)"
   ]
  },
  {
   "cell_type": "code",
   "execution_count": 20,
   "id": "2d1835da",
   "metadata": {},
   "outputs": [
    {
     "name": "stdout",
     "output_type": "stream",
     "text": [
      "[[1 2]\n",
      " [3 4]\n",
      " [5 6]]\n",
      "[[False False]\n",
      " [ True  True]\n",
      " [ True  True]]\n"
     ]
    }
   ],
   "source": [
    "a = np.array([[1,2], [3,4], [5,6]])\n",
    "print(a)\n",
    "\n",
    "bool_idx = a > 2\n",
    "print(bool_idx)"
   ]
  },
  {
   "cell_type": "code",
   "execution_count": 21,
   "id": "2125dcba",
   "metadata": {},
   "outputs": [
    {
     "name": "stdout",
     "output_type": "stream",
     "text": [
      "[3 4 5 6]\n"
     ]
    }
   ],
   "source": [
    "print(a[bool_idx])"
   ]
  },
  {
   "cell_type": "code",
   "execution_count": 22,
   "id": "b4aee740",
   "metadata": {},
   "outputs": [
    {
     "name": "stdout",
     "output_type": "stream",
     "text": [
      "[3 4 5 6]\n"
     ]
    }
   ],
   "source": [
    "print(a[a > 2])"
   ]
  },
  {
   "cell_type": "code",
   "execution_count": 24,
   "id": "22904bfc",
   "metadata": {},
   "outputs": [
    {
     "name": "stdout",
     "output_type": "stream",
     "text": [
      "[[-1 -1]\n",
      " [ 3  4]\n",
      " [ 5  6]]\n"
     ]
    }
   ],
   "source": [
    "b = np.where(a > 2, a, -1)\n",
    "print(b)"
   ]
  },
  {
   "cell_type": "code",
   "execution_count": 25,
   "id": "149adeca",
   "metadata": {},
   "outputs": [
    {
     "name": "stdout",
     "output_type": "stream",
     "text": [
      "[19 41 61]\n"
     ]
    }
   ],
   "source": [
    "a = np.array([10,19,30,41,50,61])\n",
    "b = a[[1,3,5]]\n",
    "print(b)"
   ]
  },
  {
   "cell_type": "code",
   "execution_count": 26,
   "id": "cf72a4cf",
   "metadata": {},
   "outputs": [
    {
     "name": "stdout",
     "output_type": "stream",
     "text": [
      "[0 2 4]\n",
      "[10 30 50]\n"
     ]
    }
   ],
   "source": [
    "even = np.argwhere(a%2 == 0).flatten()\n",
    "print(even)\n",
    "a_even = a[even]\n",
    "print(a_even)"
   ]
  },
  {
   "cell_type": "code",
   "execution_count": 30,
   "id": "82f9ef76",
   "metadata": {},
   "outputs": [
    {
     "name": "stdout",
     "output_type": "stream",
     "text": [
      "[1 2 3 4 5 6]\n",
      "[[1 2 3]\n",
      " [4 5 6]]\n",
      "[[1 2]\n",
      " [3 4]\n",
      " [5 6]]\n"
     ]
    }
   ],
   "source": [
    "a = np.arange(1,7)\n",
    "print(a)\n",
    "\n",
    "b = a.reshape((2,3))\n",
    "print(b)\n",
    "\n",
    "c = a.reshape((3,2))\n",
    "print(c)"
   ]
  },
  {
   "cell_type": "code",
   "execution_count": 31,
   "id": "281135dd",
   "metadata": {},
   "outputs": [
    {
     "name": "stdout",
     "output_type": "stream",
     "text": [
      "[1 2 3 4 5 6]\n",
      "(6,)\n"
     ]
    }
   ],
   "source": [
    "print(a)\n",
    "print(a.shape)"
   ]
  },
  {
   "cell_type": "code",
   "execution_count": 32,
   "id": "c97ccf09",
   "metadata": {},
   "outputs": [
    {
     "name": "stdout",
     "output_type": "stream",
     "text": [
      "[[1 2 3 4 5 6]]\n",
      "(1, 6)\n"
     ]
    }
   ],
   "source": [
    "d = a[np.newaxis, :]\n",
    "print(d)\n",
    "print(d.shape)"
   ]
  },
  {
   "cell_type": "code",
   "execution_count": 33,
   "id": "c8980ce4",
   "metadata": {},
   "outputs": [
    {
     "name": "stdout",
     "output_type": "stream",
     "text": [
      "[[1]\n",
      " [2]\n",
      " [3]\n",
      " [4]\n",
      " [5]\n",
      " [6]]\n",
      "(6, 1)\n"
     ]
    }
   ],
   "source": [
    "e = a[:, np.newaxis]\n",
    "print(e)\n",
    "print(e.shape)"
   ]
  },
  {
   "cell_type": "code",
   "execution_count": 34,
   "id": "436c0d49",
   "metadata": {},
   "outputs": [
    {
     "name": "stdout",
     "output_type": "stream",
     "text": [
      "[[1 2]\n",
      " [3 4]]\n",
      "[[5 6]]\n"
     ]
    }
   ],
   "source": [
    "a = np.array([[1,2], [3,4]])\n",
    "b = np.array([[5,6]])\n",
    "print(a)\n",
    "print(b)"
   ]
  },
  {
   "cell_type": "code",
   "execution_count": 35,
   "id": "25462da7",
   "metadata": {},
   "outputs": [
    {
     "name": "stdout",
     "output_type": "stream",
     "text": [
      "[1 2 3 4 5 6]\n"
     ]
    }
   ],
   "source": [
    "c = np.concatenate((a,b), axis=None)\n",
    "print(c)"
   ]
  },
  {
   "cell_type": "code",
   "execution_count": 36,
   "id": "f5adbf19",
   "metadata": {},
   "outputs": [
    {
     "name": "stdout",
     "output_type": "stream",
     "text": [
      "[[1 2]\n",
      " [3 4]\n",
      " [5 6]]\n"
     ]
    }
   ],
   "source": [
    "d = np.concatenate((a,b), axis=0)\n",
    "print(d)"
   ]
  },
  {
   "cell_type": "code",
   "execution_count": 38,
   "id": "ed517577",
   "metadata": {},
   "outputs": [
    {
     "name": "stdout",
     "output_type": "stream",
     "text": [
      "[[1 2 5]\n",
      " [3 4 6]]\n"
     ]
    }
   ],
   "source": [
    "e = np.concatenate((a,b.T), axis=1)\n",
    "print(e)"
   ]
  },
  {
   "cell_type": "code",
   "execution_count": 41,
   "id": "22780741",
   "metadata": {},
   "outputs": [
    {
     "name": "stdout",
     "output_type": "stream",
     "text": [
      "[1 2 3 4 5 6 7 8]\n",
      "[[1 2 5 6]\n",
      " [3 4 7 8]]\n"
     ]
    }
   ],
   "source": [
    "a = np.array([1,2,3,4])\n",
    "b = np.array([5,6,7,8])\n",
    "\n",
    "c = np.hstack((a,b))\n",
    "print(c)\n",
    "\n",
    "a = np.array([[1,2],[3,4]])\n",
    "b = np.array([[5,6],[7,8]])\n",
    "\n",
    "c = np.hstack((a,b))\n",
    "print(c)"
   ]
  },
  {
   "cell_type": "code",
   "execution_count": 42,
   "id": "07508aba",
   "metadata": {},
   "outputs": [
    {
     "name": "stdout",
     "output_type": "stream",
     "text": [
      "[[1 2 3 4]\n",
      " [5 6 7 8]]\n",
      "[[1 2]\n",
      " [3 4]\n",
      " [5 6]\n",
      " [7 8]]\n"
     ]
    }
   ],
   "source": [
    "a = np.array([1,2,3,4])\n",
    "b = np.array([5,6,7,8])\n",
    "\n",
    "c = np.vstack((a,b))\n",
    "print(c)\n",
    "\n",
    "a = np.array([[1,2],[3,4]])\n",
    "b = np.array([[5,6],[7,8]])\n",
    "\n",
    "c = np.vstack((a,b))\n",
    "print(c)"
   ]
  },
  {
   "cell_type": "code",
   "execution_count": 43,
   "id": "14052fb8",
   "metadata": {},
   "outputs": [
    {
     "name": "stdout",
     "output_type": "stream",
     "text": [
      "[[ 2  2  4]\n",
      " [ 5  5  7]\n",
      " [ 8  8 10]]\n"
     ]
    }
   ],
   "source": [
    "a = np.array([[1,2,3],[4,5,6],[7,8,9]])\n",
    "b = np.array([1,0,1])\n",
    "\n",
    "c = a + b\n",
    "print(c)"
   ]
  },
  {
   "cell_type": "code",
   "execution_count": 44,
   "id": "2b4f98fa",
   "metadata": {},
   "outputs": [
    {
     "name": "stdout",
     "output_type": "stream",
     "text": [
      "189\n",
      "189\n",
      "[21 23 25 27 29 31 33]\n",
      "[ 70 119]\n"
     ]
    }
   ],
   "source": [
    "a = np.array([[7,8,9,10,11,12,13], [14,15,16,17,18,19,20]])\n",
    "print(a.sum())\n",
    "print(a.sum(axis=None))\n",
    "print(a.sum(axis=0))\n",
    "print(a.sum(axis=1))"
   ]
  },
  {
   "cell_type": "code",
   "execution_count": 45,
   "id": "26cceb93",
   "metadata": {},
   "outputs": [
    {
     "name": "stdout",
     "output_type": "stream",
     "text": [
      "13.5\n",
      "13.5\n",
      "[10.5 11.5 12.5 13.5 14.5 15.5 16.5]\n",
      "[10. 17.]\n"
     ]
    }
   ],
   "source": [
    "a = np.array([[7,8,9,10,11,12,13], [14,15,16,17,18,19,20]])\n",
    "print(a.mean())\n",
    "print(a.mean(axis=None))\n",
    "print(a.mean(axis=0))\n",
    "print(a.mean(axis=1))"
   ]
  },
  {
   "cell_type": "code",
   "execution_count": 47,
   "id": "97de8e7b",
   "metadata": {},
   "outputs": [
    {
     "name": "stdout",
     "output_type": "stream",
     "text": [
      "int32\n",
      "float64\n",
      "int32\n",
      "float32\n"
     ]
    }
   ],
   "source": [
    "x = np.array([1,2])\n",
    "print(a.dtype)\n",
    "\n",
    "y = np.array([1.0,2.0])\n",
    "print(y.dtype)\n",
    "\n",
    "x = np.array([1,2], dtype=np.int32)\n",
    "print(a.dtype)\n",
    "\n",
    "y = np.array([1.0,2.0], dtype=np.float32)\n",
    "print(y.dtype)"
   ]
  },
  {
   "cell_type": "code",
   "execution_count": 48,
   "id": "2602ff42",
   "metadata": {},
   "outputs": [
    {
     "name": "stdout",
     "output_type": "stream",
     "text": [
      "[42  2  3]\n",
      "[42  2  3]\n"
     ]
    }
   ],
   "source": [
    "a = np.array([1,2,3])\n",
    "b = a\n",
    "b[0] = 42\n",
    "\n",
    "print(a)\n",
    "print(b)"
   ]
  },
  {
   "cell_type": "code",
   "execution_count": 49,
   "id": "6c78d987",
   "metadata": {},
   "outputs": [
    {
     "name": "stdout",
     "output_type": "stream",
     "text": [
      "[[0. 0. 0.]\n",
      " [0. 0. 0.]]\n"
     ]
    }
   ],
   "source": [
    "a = np.zeros((2,3))\n",
    "print(a)"
   ]
  },
  {
   "cell_type": "code",
   "execution_count": 50,
   "id": "d6f36b49",
   "metadata": {},
   "outputs": [
    {
     "name": "stdout",
     "output_type": "stream",
     "text": [
      "[[1. 1. 1.]\n",
      " [1. 1. 1.]]\n"
     ]
    }
   ],
   "source": [
    "a = np.ones((2,3))\n",
    "print(a)"
   ]
  },
  {
   "cell_type": "code",
   "execution_count": 51,
   "id": "e81ada8a",
   "metadata": {},
   "outputs": [
    {
     "name": "stdout",
     "output_type": "stream",
     "text": [
      "[[5. 5. 5.]\n",
      " [5. 5. 5.]\n",
      " [5. 5. 5.]]\n"
     ]
    }
   ],
   "source": [
    "a = np.full((3,3), 5.0)\n",
    "print(a)"
   ]
  },
  {
   "cell_type": "code",
   "execution_count": 52,
   "id": "1aa725fc",
   "metadata": {},
   "outputs": [
    {
     "name": "stdout",
     "output_type": "stream",
     "text": [
      "[[1. 0. 0.]\n",
      " [0. 1. 0.]\n",
      " [0. 0. 1.]]\n"
     ]
    }
   ],
   "source": [
    "a = np.eye(3)\n",
    "print(a)"
   ]
  },
  {
   "cell_type": "code",
   "execution_count": 53,
   "id": "f30e690e",
   "metadata": {},
   "outputs": [
    {
     "name": "stdout",
     "output_type": "stream",
     "text": [
      "[0 1 2 3 4 5 6 7 8 9]\n"
     ]
    }
   ],
   "source": [
    "a = np.arange(10)\n",
    "print(a)"
   ]
  },
  {
   "cell_type": "code",
   "execution_count": 54,
   "id": "e4138bac",
   "metadata": {},
   "outputs": [
    {
     "name": "stdout",
     "output_type": "stream",
     "text": [
      "[ 0.   2.5  5.   7.5 10. ]\n"
     ]
    }
   ],
   "source": [
    "a = np.linspace(0,10,5)\n",
    "print(a)"
   ]
  },
  {
   "cell_type": "code",
   "execution_count": 58,
   "id": "d15093ab",
   "metadata": {},
   "outputs": [
    {
     "name": "stdout",
     "output_type": "stream",
     "text": [
      "[[0.93607236 0.67392295]\n",
      " [0.76266355 0.30886056]\n",
      " [0.87521315 0.70323485]]\n",
      "[[-0.60597797  0.14264009]\n",
      " [-0.54590751  0.14829237]\n",
      " [ 0.41055136 -1.3913222 ]]\n"
     ]
    }
   ],
   "source": [
    "a = np.random.random((3,2))\n",
    "print(a)\n",
    "\n",
    "b = np.random.randn(3,2)\n",
    "print(b)"
   ]
  },
  {
   "cell_type": "code",
   "execution_count": 59,
   "id": "8e0544f8",
   "metadata": {},
   "outputs": [
    {
     "name": "stdout",
     "output_type": "stream",
     "text": [
      "0.021779259257700315 1.0339801314949242 1.0168481359057133\n"
     ]
    }
   ],
   "source": [
    "c = np.random.randn(1000)\n",
    "print(c.mean(), c.var(), c.std())"
   ]
  },
  {
   "cell_type": "code",
   "execution_count": 60,
   "id": "d5ff6667",
   "metadata": {},
   "outputs": [
    {
     "name": "stdout",
     "output_type": "stream",
     "text": [
      "0.27819185715335437\n"
     ]
    }
   ],
   "source": [
    "d = np.random.randn(10, 3)\n",
    "print(d.mean())"
   ]
  },
  {
   "cell_type": "code",
   "execution_count": 61,
   "id": "1530279c",
   "metadata": {},
   "outputs": [
    {
     "name": "stdout",
     "output_type": "stream",
     "text": [
      "[[3 2 9]\n",
      " [6 4 7]\n",
      " [1 9 9]]\n"
     ]
    }
   ],
   "source": [
    "e = np.random.randint(10, size=(3,3))\n",
    "print(e)"
   ]
  },
  {
   "cell_type": "code",
   "execution_count": 63,
   "id": "2e8ea6f2",
   "metadata": {},
   "outputs": [
    {
     "name": "stdout",
     "output_type": "stream",
     "text": [
      "[5 1 1 3 0 6 6 0 2 6]\n"
     ]
    }
   ],
   "source": [
    "f = np.random.choice(7, size=10)\n",
    "print(f)"
   ]
  },
  {
   "cell_type": "code",
   "execution_count": 64,
   "id": "28843f9f",
   "metadata": {},
   "outputs": [
    {
     "name": "stdout",
     "output_type": "stream",
     "text": [
      "[22 10 39 22 39 10 10 39 22 39]\n"
     ]
    }
   ],
   "source": [
    "g = np.random.choice([10, 22,39], size=10)\n",
    "print(g)"
   ]
  },
  {
   "cell_type": "code",
   "execution_count": null,
   "id": "b52218d4",
   "metadata": {},
   "outputs": [],
   "source": []
  }
 ],
 "metadata": {
  "kernelspec": {
   "display_name": "Python 3 (ipykernel)",
   "language": "python",
   "name": "python3"
  },
  "language_info": {
   "codemirror_mode": {
    "name": "ipython",
    "version": 3
   },
   "file_extension": ".py",
   "mimetype": "text/x-python",
   "name": "python",
   "nbconvert_exporter": "python",
   "pygments_lexer": "ipython3",
   "version": "3.10.6"
  }
 },
 "nbformat": 4,
 "nbformat_minor": 5
}
